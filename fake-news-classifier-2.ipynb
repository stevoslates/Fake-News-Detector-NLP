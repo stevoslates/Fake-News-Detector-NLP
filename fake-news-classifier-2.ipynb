{
 "cells": [
  {
   "cell_type": "code",
   "execution_count": 1,
   "id": "8ec9d653",
   "metadata": {
    "_cell_guid": "b1076dfc-b9ad-4769-8c92-a6c4dae69d19",
    "_uuid": "8f2839f25d086af736a60e9eeb907d3b93b6e0e5",
    "execution": {
     "iopub.execute_input": "2022-01-14T18:44:33.327439Z",
     "iopub.status.busy": "2022-01-14T18:44:33.324374Z",
     "iopub.status.idle": "2022-01-14T18:44:35.021861Z",
     "shell.execute_reply": "2022-01-14T18:44:35.021316Z",
     "shell.execute_reply.started": "2022-01-14T18:38:27.984721Z"
    },
    "papermill": {
     "duration": 1.731148,
     "end_time": "2022-01-14T18:44:35.021988",
     "exception": false,
     "start_time": "2022-01-14T18:44:33.290840",
     "status": "completed"
    },
    "tags": []
   },
   "outputs": [
    {
     "name": "stdout",
     "output_type": "stream",
     "text": [
      "/kaggle/input/fake-and-real-news-dataset/True.csv\n",
      "/kaggle/input/fake-and-real-news-dataset/Fake.csv\n"
     ]
    }
   ],
   "source": [
    "# This Python 3 environment comes with many helpful analytics libraries installed\n",
    "# It is defined by the kaggle/python Docker image: https://github.com/kaggle/docker-python\n",
    "# For example, here's several helpful packages to load\n",
    "\n",
    "import numpy as np # linear algebra\n",
    "import pandas as pd # data processing, CSV file I/O (e.g. pd.read_csv)\n",
    "import seaborn as sns\n",
    "import matplotlib.pyplot as plt\n",
    "import re\n",
    "\n",
    "import nltk as nlp # Main Library for NLP\n",
    "from nltk.corpus import stopwords # stopwords\n",
    "from sklearn.feature_extraction.text import CountVectorizer\n",
    "from sklearn.model_selection import train_test_split\n",
    "from sklearn.naive_bayes import MultinomialNB #MultinomialNB # for the model - also try Guassian\n",
    "\n",
    "import nltk, re, string, collections\n",
    "from nltk.util import ngrams\n",
    "# Input data files are available in the read-only \"../input/\" directory\n",
    "# For example, running this (by clicking run or pressing Shift+Enter) will list all files under the input directory\n",
    "\n",
    "import os\n",
    "for dirname, _, filenames in os.walk('/kaggle/input'):\n",
    "    for filename in filenames:\n",
    "        print(os.path.join(dirname, filename))\n",
    "\n",
    "# You can write up to 20GB to the current directory (/kaggle/working/) that gets preserved as output when you create a version using \"Save & Run All\" \n",
    "# You can also write temporary files to /kaggle/temp/, but they won't be saved outside of the current session"
   ]
  },
  {
   "cell_type": "markdown",
   "id": "ac2f492e",
   "metadata": {
    "papermill": {
     "duration": 0.021653,
     "end_time": "2022-01-14T18:44:35.066646",
     "exception": false,
     "start_time": "2022-01-14T18:44:35.044993",
     "status": "completed"
    },
    "tags": []
   },
   "source": [
    "# 1. EDA and Data Preprocessing"
   ]
  },
  {
   "cell_type": "code",
   "execution_count": 2,
   "id": "b22d19b6",
   "metadata": {
    "execution": {
     "iopub.execute_input": "2022-01-14T18:44:35.114258Z",
     "iopub.status.busy": "2022-01-14T18:44:35.113548Z",
     "iopub.status.idle": "2022-01-14T18:44:38.051634Z",
     "shell.execute_reply": "2022-01-14T18:44:38.051116Z",
     "shell.execute_reply.started": "2022-01-14T18:38:28.007346Z"
    },
    "papermill": {
     "duration": 2.963813,
     "end_time": "2022-01-14T18:44:38.051748",
     "exception": false,
     "start_time": "2022-01-14T18:44:35.087935",
     "status": "completed"
    },
    "tags": []
   },
   "outputs": [],
   "source": [
    "fake = pd.read_csv(\"../input/fake-and-real-news-dataset/Fake.csv\")\n",
    "real = pd.read_csv(\"../input/fake-and-real-news-dataset/True.csv\")"
   ]
  },
  {
   "cell_type": "code",
   "execution_count": 3,
   "id": "6c74ba89",
   "metadata": {
    "execution": {
     "iopub.execute_input": "2022-01-14T18:44:38.104353Z",
     "iopub.status.busy": "2022-01-14T18:44:38.103674Z",
     "iopub.status.idle": "2022-01-14T18:44:38.120703Z",
     "shell.execute_reply": "2022-01-14T18:44:38.120118Z",
     "shell.execute_reply.started": "2022-01-14T18:38:29.591083Z"
    },
    "papermill": {
     "duration": 0.047001,
     "end_time": "2022-01-14T18:44:38.120841",
     "exception": false,
     "start_time": "2022-01-14T18:44:38.073840",
     "status": "completed"
    },
    "tags": []
   },
   "outputs": [
    {
     "data": {
      "text/html": [
       "<div>\n",
       "<style scoped>\n",
       "    .dataframe tbody tr th:only-of-type {\n",
       "        vertical-align: middle;\n",
       "    }\n",
       "\n",
       "    .dataframe tbody tr th {\n",
       "        vertical-align: top;\n",
       "    }\n",
       "\n",
       "    .dataframe thead th {\n",
       "        text-align: right;\n",
       "    }\n",
       "</style>\n",
       "<table border=\"1\" class=\"dataframe\">\n",
       "  <thead>\n",
       "    <tr style=\"text-align: right;\">\n",
       "      <th></th>\n",
       "      <th>title</th>\n",
       "      <th>text</th>\n",
       "      <th>subject</th>\n",
       "      <th>date</th>\n",
       "    </tr>\n",
       "  </thead>\n",
       "  <tbody>\n",
       "    <tr>\n",
       "      <th>0</th>\n",
       "      <td>Donald Trump Sends Out Embarrassing New Year’...</td>\n",
       "      <td>Donald Trump just couldn t wish all Americans ...</td>\n",
       "      <td>News</td>\n",
       "      <td>December 31, 2017</td>\n",
       "    </tr>\n",
       "    <tr>\n",
       "      <th>1</th>\n",
       "      <td>Drunk Bragging Trump Staffer Started Russian ...</td>\n",
       "      <td>House Intelligence Committee Chairman Devin Nu...</td>\n",
       "      <td>News</td>\n",
       "      <td>December 31, 2017</td>\n",
       "    </tr>\n",
       "    <tr>\n",
       "      <th>2</th>\n",
       "      <td>Sheriff David Clarke Becomes An Internet Joke...</td>\n",
       "      <td>On Friday, it was revealed that former Milwauk...</td>\n",
       "      <td>News</td>\n",
       "      <td>December 30, 2017</td>\n",
       "    </tr>\n",
       "    <tr>\n",
       "      <th>3</th>\n",
       "      <td>Trump Is So Obsessed He Even Has Obama’s Name...</td>\n",
       "      <td>On Christmas day, Donald Trump announced that ...</td>\n",
       "      <td>News</td>\n",
       "      <td>December 29, 2017</td>\n",
       "    </tr>\n",
       "    <tr>\n",
       "      <th>4</th>\n",
       "      <td>Pope Francis Just Called Out Donald Trump Dur...</td>\n",
       "      <td>Pope Francis used his annual Christmas Day mes...</td>\n",
       "      <td>News</td>\n",
       "      <td>December 25, 2017</td>\n",
       "    </tr>\n",
       "  </tbody>\n",
       "</table>\n",
       "</div>"
      ],
      "text/plain": [
       "                                               title  \\\n",
       "0   Donald Trump Sends Out Embarrassing New Year’...   \n",
       "1   Drunk Bragging Trump Staffer Started Russian ...   \n",
       "2   Sheriff David Clarke Becomes An Internet Joke...   \n",
       "3   Trump Is So Obsessed He Even Has Obama’s Name...   \n",
       "4   Pope Francis Just Called Out Donald Trump Dur...   \n",
       "\n",
       "                                                text subject  \\\n",
       "0  Donald Trump just couldn t wish all Americans ...    News   \n",
       "1  House Intelligence Committee Chairman Devin Nu...    News   \n",
       "2  On Friday, it was revealed that former Milwauk...    News   \n",
       "3  On Christmas day, Donald Trump announced that ...    News   \n",
       "4  Pope Francis used his annual Christmas Day mes...    News   \n",
       "\n",
       "                date  \n",
       "0  December 31, 2017  \n",
       "1  December 31, 2017  \n",
       "2  December 30, 2017  \n",
       "3  December 29, 2017  \n",
       "4  December 25, 2017  "
      ]
     },
     "execution_count": 3,
     "metadata": {},
     "output_type": "execute_result"
    }
   ],
   "source": [
    "fake.head()"
   ]
  },
  {
   "cell_type": "code",
   "execution_count": 4,
   "id": "9284f526",
   "metadata": {
    "execution": {
     "iopub.execute_input": "2022-01-14T18:44:38.198300Z",
     "iopub.status.busy": "2022-01-14T18:44:38.197679Z",
     "iopub.status.idle": "2022-01-14T18:44:38.200548Z",
     "shell.execute_reply": "2022-01-14T18:44:38.200884Z",
     "shell.execute_reply.started": "2022-01-14T18:38:29.608518Z"
    },
    "papermill": {
     "duration": 0.045319,
     "end_time": "2022-01-14T18:44:38.201014",
     "exception": false,
     "start_time": "2022-01-14T18:44:38.155695",
     "status": "completed"
    },
    "tags": []
   },
   "outputs": [
    {
     "data": {
      "text/html": [
       "<div>\n",
       "<style scoped>\n",
       "    .dataframe tbody tr th:only-of-type {\n",
       "        vertical-align: middle;\n",
       "    }\n",
       "\n",
       "    .dataframe tbody tr th {\n",
       "        vertical-align: top;\n",
       "    }\n",
       "\n",
       "    .dataframe thead th {\n",
       "        text-align: right;\n",
       "    }\n",
       "</style>\n",
       "<table border=\"1\" class=\"dataframe\">\n",
       "  <thead>\n",
       "    <tr style=\"text-align: right;\">\n",
       "      <th></th>\n",
       "      <th>title</th>\n",
       "      <th>text</th>\n",
       "      <th>subject</th>\n",
       "      <th>date</th>\n",
       "    </tr>\n",
       "  </thead>\n",
       "  <tbody>\n",
       "    <tr>\n",
       "      <th>0</th>\n",
       "      <td>As U.S. budget fight looms, Republicans flip t...</td>\n",
       "      <td>WASHINGTON (Reuters) - The head of a conservat...</td>\n",
       "      <td>politicsNews</td>\n",
       "      <td>December 31, 2017</td>\n",
       "    </tr>\n",
       "    <tr>\n",
       "      <th>1</th>\n",
       "      <td>U.S. military to accept transgender recruits o...</td>\n",
       "      <td>WASHINGTON (Reuters) - Transgender people will...</td>\n",
       "      <td>politicsNews</td>\n",
       "      <td>December 29, 2017</td>\n",
       "    </tr>\n",
       "    <tr>\n",
       "      <th>2</th>\n",
       "      <td>Senior U.S. Republican senator: 'Let Mr. Muell...</td>\n",
       "      <td>WASHINGTON (Reuters) - The special counsel inv...</td>\n",
       "      <td>politicsNews</td>\n",
       "      <td>December 31, 2017</td>\n",
       "    </tr>\n",
       "    <tr>\n",
       "      <th>3</th>\n",
       "      <td>FBI Russia probe helped by Australian diplomat...</td>\n",
       "      <td>WASHINGTON (Reuters) - Trump campaign adviser ...</td>\n",
       "      <td>politicsNews</td>\n",
       "      <td>December 30, 2017</td>\n",
       "    </tr>\n",
       "    <tr>\n",
       "      <th>4</th>\n",
       "      <td>Trump wants Postal Service to charge 'much mor...</td>\n",
       "      <td>SEATTLE/WASHINGTON (Reuters) - President Donal...</td>\n",
       "      <td>politicsNews</td>\n",
       "      <td>December 29, 2017</td>\n",
       "    </tr>\n",
       "  </tbody>\n",
       "</table>\n",
       "</div>"
      ],
      "text/plain": [
       "                                               title  \\\n",
       "0  As U.S. budget fight looms, Republicans flip t...   \n",
       "1  U.S. military to accept transgender recruits o...   \n",
       "2  Senior U.S. Republican senator: 'Let Mr. Muell...   \n",
       "3  FBI Russia probe helped by Australian diplomat...   \n",
       "4  Trump wants Postal Service to charge 'much mor...   \n",
       "\n",
       "                                                text       subject  \\\n",
       "0  WASHINGTON (Reuters) - The head of a conservat...  politicsNews   \n",
       "1  WASHINGTON (Reuters) - Transgender people will...  politicsNews   \n",
       "2  WASHINGTON (Reuters) - The special counsel inv...  politicsNews   \n",
       "3  WASHINGTON (Reuters) - Trump campaign adviser ...  politicsNews   \n",
       "4  SEATTLE/WASHINGTON (Reuters) - President Donal...  politicsNews   \n",
       "\n",
       "                 date  \n",
       "0  December 31, 2017   \n",
       "1  December 29, 2017   \n",
       "2  December 31, 2017   \n",
       "3  December 30, 2017   \n",
       "4  December 29, 2017   "
      ]
     },
     "execution_count": 4,
     "metadata": {},
     "output_type": "execute_result"
    }
   ],
   "source": [
    "real.head()"
   ]
  },
  {
   "cell_type": "code",
   "execution_count": 5,
   "id": "999fa094",
   "metadata": {
    "execution": {
     "iopub.execute_input": "2022-01-14T18:44:38.252244Z",
     "iopub.status.busy": "2022-01-14T18:44:38.251580Z",
     "iopub.status.idle": "2022-01-14T18:44:38.255402Z",
     "shell.execute_reply": "2022-01-14T18:44:38.254945Z",
     "shell.execute_reply.started": "2022-01-14T18:38:29.635889Z"
    },
    "papermill": {
     "duration": 0.030965,
     "end_time": "2022-01-14T18:44:38.255513",
     "exception": false,
     "start_time": "2022-01-14T18:44:38.224548",
     "status": "completed"
    },
    "tags": []
   },
   "outputs": [
    {
     "data": {
      "text/plain": [
       "((23481, 4), (21417, 4))"
      ]
     },
     "execution_count": 5,
     "metadata": {},
     "output_type": "execute_result"
    }
   ],
   "source": [
    "fake.shape,real.shape\n",
    "#if i conacatenate these you want the rows to be (23481+21417=44898)"
   ]
  },
  {
   "cell_type": "code",
   "execution_count": 6,
   "id": "2be12caf",
   "metadata": {
    "execution": {
     "iopub.execute_input": "2022-01-14T18:44:38.335319Z",
     "iopub.status.busy": "2022-01-14T18:44:38.311838Z",
     "iopub.status.idle": "2022-01-14T18:44:38.344397Z",
     "shell.execute_reply": "2022-01-14T18:44:38.344778Z",
     "shell.execute_reply.started": "2022-01-14T18:38:29.644807Z"
    },
    "papermill": {
     "duration": 0.066359,
     "end_time": "2022-01-14T18:44:38.344932",
     "exception": false,
     "start_time": "2022-01-14T18:44:38.278573",
     "status": "completed"
    },
    "tags": []
   },
   "outputs": [
    {
     "name": "stdout",
     "output_type": "stream",
     "text": [
      "<class 'pandas.core.frame.DataFrame'>\n",
      "RangeIndex: 23481 entries, 0 to 23480\n",
      "Data columns (total 4 columns):\n",
      " #   Column   Non-Null Count  Dtype \n",
      "---  ------   --------------  ----- \n",
      " 0   title    23481 non-null  object\n",
      " 1   text     23481 non-null  object\n",
      " 2   subject  23481 non-null  object\n",
      " 3   date     23481 non-null  object\n",
      "dtypes: object(4)\n",
      "memory usage: 733.9+ KB\n",
      "<class 'pandas.core.frame.DataFrame'>\n",
      "RangeIndex: 21417 entries, 0 to 21416\n",
      "Data columns (total 4 columns):\n",
      " #   Column   Non-Null Count  Dtype \n",
      "---  ------   --------------  ----- \n",
      " 0   title    21417 non-null  object\n",
      " 1   text     21417 non-null  object\n",
      " 2   subject  21417 non-null  object\n",
      " 3   date     21417 non-null  object\n",
      "dtypes: object(4)\n",
      "memory usage: 669.4+ KB\n"
     ]
    }
   ],
   "source": [
    "fake.info()\n",
    "real.info()"
   ]
  },
  {
   "cell_type": "code",
   "execution_count": 7,
   "id": "e4e9eccc",
   "metadata": {
    "execution": {
     "iopub.execute_input": "2022-01-14T18:44:38.399175Z",
     "iopub.status.busy": "2022-01-14T18:44:38.398387Z",
     "iopub.status.idle": "2022-01-14T18:44:38.416305Z",
     "shell.execute_reply": "2022-01-14T18:44:38.415860Z",
     "shell.execute_reply.started": "2022-01-14T18:38:29.700477Z"
    },
    "papermill": {
     "duration": 0.047724,
     "end_time": "2022-01-14T18:44:38.416418",
     "exception": false,
     "start_time": "2022-01-14T18:44:38.368694",
     "status": "completed"
    },
    "tags": []
   },
   "outputs": [
    {
     "data": {
      "text/html": [
       "<div>\n",
       "<style scoped>\n",
       "    .dataframe tbody tr th:only-of-type {\n",
       "        vertical-align: middle;\n",
       "    }\n",
       "\n",
       "    .dataframe tbody tr th {\n",
       "        vertical-align: top;\n",
       "    }\n",
       "\n",
       "    .dataframe thead th {\n",
       "        text-align: right;\n",
       "    }\n",
       "</style>\n",
       "<table border=\"1\" class=\"dataframe\">\n",
       "  <thead>\n",
       "    <tr style=\"text-align: right;\">\n",
       "      <th></th>\n",
       "      <th>title</th>\n",
       "      <th>text</th>\n",
       "      <th>subject</th>\n",
       "      <th>date</th>\n",
       "      <th>class</th>\n",
       "    </tr>\n",
       "  </thead>\n",
       "  <tbody>\n",
       "    <tr>\n",
       "      <th>0</th>\n",
       "      <td>Donald Trump Sends Out Embarrassing New Year’...</td>\n",
       "      <td>Donald Trump just couldn t wish all Americans ...</td>\n",
       "      <td>News</td>\n",
       "      <td>December 31, 2017</td>\n",
       "      <td>1</td>\n",
       "    </tr>\n",
       "    <tr>\n",
       "      <th>1</th>\n",
       "      <td>Drunk Bragging Trump Staffer Started Russian ...</td>\n",
       "      <td>House Intelligence Committee Chairman Devin Nu...</td>\n",
       "      <td>News</td>\n",
       "      <td>December 31, 2017</td>\n",
       "      <td>1</td>\n",
       "    </tr>\n",
       "    <tr>\n",
       "      <th>2</th>\n",
       "      <td>Sheriff David Clarke Becomes An Internet Joke...</td>\n",
       "      <td>On Friday, it was revealed that former Milwauk...</td>\n",
       "      <td>News</td>\n",
       "      <td>December 30, 2017</td>\n",
       "      <td>1</td>\n",
       "    </tr>\n",
       "    <tr>\n",
       "      <th>3</th>\n",
       "      <td>Trump Is So Obsessed He Even Has Obama’s Name...</td>\n",
       "      <td>On Christmas day, Donald Trump announced that ...</td>\n",
       "      <td>News</td>\n",
       "      <td>December 29, 2017</td>\n",
       "      <td>1</td>\n",
       "    </tr>\n",
       "    <tr>\n",
       "      <th>4</th>\n",
       "      <td>Pope Francis Just Called Out Donald Trump Dur...</td>\n",
       "      <td>Pope Francis used his annual Christmas Day mes...</td>\n",
       "      <td>News</td>\n",
       "      <td>December 25, 2017</td>\n",
       "      <td>1</td>\n",
       "    </tr>\n",
       "  </tbody>\n",
       "</table>\n",
       "</div>"
      ],
      "text/plain": [
       "                                               title  \\\n",
       "0   Donald Trump Sends Out Embarrassing New Year’...   \n",
       "1   Drunk Bragging Trump Staffer Started Russian ...   \n",
       "2   Sheriff David Clarke Becomes An Internet Joke...   \n",
       "3   Trump Is So Obsessed He Even Has Obama’s Name...   \n",
       "4   Pope Francis Just Called Out Donald Trump Dur...   \n",
       "\n",
       "                                                text subject  \\\n",
       "0  Donald Trump just couldn t wish all Americans ...    News   \n",
       "1  House Intelligence Committee Chairman Devin Nu...    News   \n",
       "2  On Friday, it was revealed that former Milwauk...    News   \n",
       "3  On Christmas day, Donald Trump announced that ...    News   \n",
       "4  Pope Francis used his annual Christmas Day mes...    News   \n",
       "\n",
       "                date  class  \n",
       "0  December 31, 2017      1  \n",
       "1  December 31, 2017      1  \n",
       "2  December 30, 2017      1  \n",
       "3  December 29, 2017      1  \n",
       "4  December 25, 2017      1  "
      ]
     },
     "execution_count": 7,
     "metadata": {},
     "output_type": "execute_result"
    }
   ],
   "source": [
    "#adding classifier as a number: 1 if the article is fake, 0 otherwise\n",
    "fake['class'] = 1\n",
    "real['class'] = 0\n",
    "\n",
    "all_data = pd.concat([fake,real])\n",
    "all_data.head()"
   ]
  },
  {
   "cell_type": "code",
   "execution_count": 8,
   "id": "d75d8a40",
   "metadata": {
    "execution": {
     "iopub.execute_input": "2022-01-14T18:44:38.470019Z",
     "iopub.status.busy": "2022-01-14T18:44:38.469340Z",
     "iopub.status.idle": "2022-01-14T18:44:38.476411Z",
     "shell.execute_reply": "2022-01-14T18:44:38.475522Z",
     "shell.execute_reply.started": "2022-01-14T18:38:29.727035Z"
    },
    "papermill": {
     "duration": 0.036419,
     "end_time": "2022-01-14T18:44:38.476545",
     "exception": false,
     "start_time": "2022-01-14T18:44:38.440126",
     "status": "completed"
    },
    "tags": []
   },
   "outputs": [
    {
     "data": {
      "text/plain": [
       "(44898, 5)"
      ]
     },
     "execution_count": 8,
     "metadata": {},
     "output_type": "execute_result"
    }
   ],
   "source": [
    "all_data.shape"
   ]
  },
  {
   "cell_type": "code",
   "execution_count": 9,
   "id": "76c528a6",
   "metadata": {
    "execution": {
     "iopub.execute_input": "2022-01-14T18:44:38.535312Z",
     "iopub.status.busy": "2022-01-14T18:44:38.530396Z",
     "iopub.status.idle": "2022-01-14T18:44:38.767810Z",
     "shell.execute_reply": "2022-01-14T18:44:38.767427Z",
     "shell.execute_reply.started": "2022-01-14T18:38:29.737273Z"
    },
    "papermill": {
     "duration": 0.265918,
     "end_time": "2022-01-14T18:44:38.767916",
     "exception": false,
     "start_time": "2022-01-14T18:44:38.501998",
     "status": "completed"
    },
    "tags": []
   },
   "outputs": [
    {
     "data": {
      "image/png": "[encoded data removed]",
      "text/plain": [
       "<Figure size 720x720 with 1 Axes>"
      ]
     },
     "metadata": {
      "needs_background": "light"
     },
     "output_type": "display_data"
    }
   ],
   "source": [
    "fig, ax = plt.subplots(figsize=(10,10))\n",
    "plt.xticks(rotation=45)\n",
    "ax = sns.countplot(x = all_data.subject)"
   ]
  },
  {
   "cell_type": "code",
   "execution_count": 10,
   "id": "0559b21d",
   "metadata": {
    "execution": {
     "iopub.execute_input": "2022-01-14T18:44:38.826298Z",
     "iopub.status.busy": "2022-01-14T18:44:38.821044Z",
     "iopub.status.idle": "2022-01-14T18:44:38.829711Z",
     "shell.execute_reply": "2022-01-14T18:44:38.830049Z",
     "shell.execute_reply.started": "2022-01-14T18:38:30.074819Z"
    },
    "papermill": {
     "duration": 0.037519,
     "end_time": "2022-01-14T18:44:38.830178",
     "exception": false,
     "start_time": "2022-01-14T18:44:38.792659",
     "status": "completed"
    },
    "tags": []
   },
   "outputs": [
    {
     "data": {
      "text/html": [
       "<div>\n",
       "<style scoped>\n",
       "    .dataframe tbody tr th:only-of-type {\n",
       "        vertical-align: middle;\n",
       "    }\n",
       "\n",
       "    .dataframe tbody tr th {\n",
       "        vertical-align: top;\n",
       "    }\n",
       "\n",
       "    .dataframe thead th {\n",
       "        text-align: right;\n",
       "    }\n",
       "</style>\n",
       "<table border=\"1\" class=\"dataframe\">\n",
       "  <thead>\n",
       "    <tr style=\"text-align: right;\">\n",
       "      <th></th>\n",
       "      <th>text</th>\n",
       "      <th>class</th>\n",
       "    </tr>\n",
       "  </thead>\n",
       "  <tbody>\n",
       "    <tr>\n",
       "      <th>0</th>\n",
       "      <td>Donald Trump just couldn t wish all Americans ...</td>\n",
       "      <td>1</td>\n",
       "    </tr>\n",
       "    <tr>\n",
       "      <th>1</th>\n",
       "      <td>House Intelligence Committee Chairman Devin Nu...</td>\n",
       "      <td>1</td>\n",
       "    </tr>\n",
       "    <tr>\n",
       "      <th>2</th>\n",
       "      <td>On Friday, it was revealed that former Milwauk...</td>\n",
       "      <td>1</td>\n",
       "    </tr>\n",
       "    <tr>\n",
       "      <th>3</th>\n",
       "      <td>On Christmas day, Donald Trump announced that ...</td>\n",
       "      <td>1</td>\n",
       "    </tr>\n",
       "    <tr>\n",
       "      <th>4</th>\n",
       "      <td>Pope Francis used his annual Christmas Day mes...</td>\n",
       "      <td>1</td>\n",
       "    </tr>\n",
       "  </tbody>\n",
       "</table>\n",
       "</div>"
      ],
      "text/plain": [
       "                                                text  class\n",
       "0  Donald Trump just couldn t wish all Americans ...      1\n",
       "1  House Intelligence Committee Chairman Devin Nu...      1\n",
       "2  On Friday, it was revealed that former Milwauk...      1\n",
       "3  On Christmas day, Donald Trump announced that ...      1\n",
       "4  Pope Francis used his annual Christmas Day mes...      1"
      ]
     },
     "execution_count": 10,
     "metadata": {},
     "output_type": "execute_result"
    }
   ],
   "source": [
    "all_data = all_data.drop(['title','date','subject'], axis=1)\n",
    "all_data.head()"
   ]
  },
  {
   "cell_type": "code",
   "execution_count": 11,
   "id": "839d5da3",
   "metadata": {
    "execution": {
     "iopub.execute_input": "2022-01-14T18:44:38.886418Z",
     "iopub.status.busy": "2022-01-14T18:44:38.884750Z",
     "iopub.status.idle": "2022-01-14T18:44:38.899903Z",
     "shell.execute_reply": "2022-01-14T18:44:38.899482Z",
     "shell.execute_reply.started": "2022-01-14T18:38:30.093115Z"
    },
    "papermill": {
     "duration": 0.045246,
     "end_time": "2022-01-14T18:44:38.900008",
     "exception": false,
     "start_time": "2022-01-14T18:44:38.854762",
     "status": "completed"
    },
    "tags": []
   },
   "outputs": [
    {
     "data": {
      "text/html": [
       "<div>\n",
       "<style scoped>\n",
       "    .dataframe tbody tr th:only-of-type {\n",
       "        vertical-align: middle;\n",
       "    }\n",
       "\n",
       "    .dataframe tbody tr th {\n",
       "        vertical-align: top;\n",
       "    }\n",
       "\n",
       "    .dataframe thead th {\n",
       "        text-align: right;\n",
       "    }\n",
       "</style>\n",
       "<table border=\"1\" class=\"dataframe\">\n",
       "  <thead>\n",
       "    <tr style=\"text-align: right;\">\n",
       "      <th></th>\n",
       "      <th>text</th>\n",
       "      <th>class</th>\n",
       "    </tr>\n",
       "  </thead>\n",
       "  <tbody>\n",
       "    <tr>\n",
       "      <th>14150</th>\n",
       "      <td>MOSCOW (Reuters) - U.N. special envoy on Syria...</td>\n",
       "      <td>0</td>\n",
       "    </tr>\n",
       "    <tr>\n",
       "      <th>9675</th>\n",
       "      <td>The View s Joy Behar was beaming after watchin...</td>\n",
       "      <td>1</td>\n",
       "    </tr>\n",
       "    <tr>\n",
       "      <th>829</th>\n",
       "      <td>WASHINGTON (Reuters) - A foreign policy advise...</td>\n",
       "      <td>0</td>\n",
       "    </tr>\n",
       "    <tr>\n",
       "      <th>606</th>\n",
       "      <td>Walmart s back to school advertising took a pr...</td>\n",
       "      <td>1</td>\n",
       "    </tr>\n",
       "    <tr>\n",
       "      <th>6156</th>\n",
       "      <td>WASHINGTON (Reuters) - The new U.S. administra...</td>\n",
       "      <td>0</td>\n",
       "    </tr>\n",
       "  </tbody>\n",
       "</table>\n",
       "</div>"
      ],
      "text/plain": [
       "                                                    text  class\n",
       "14150  MOSCOW (Reuters) - U.N. special envoy on Syria...      0\n",
       "9675   The View s Joy Behar was beaming after watchin...      1\n",
       "829    WASHINGTON (Reuters) - A foreign policy advise...      0\n",
       "606    Walmart s back to school advertising took a pr...      1\n",
       "6156   WASHINGTON (Reuters) - The new U.S. administra...      0"
      ]
     },
     "execution_count": 11,
     "metadata": {},
     "output_type": "execute_result"
    }
   ],
   "source": [
    "all_data = all_data.sample(frac = 1) #Shuffling our data\n",
    "all_data.head()"
   ]
  },
  {
   "cell_type": "markdown",
   "id": "5a05e429",
   "metadata": {
    "papermill": {
     "duration": 0.026062,
     "end_time": "2022-01-14T18:44:38.952515",
     "exception": false,
     "start_time": "2022-01-14T18:44:38.926453",
     "status": "completed"
    },
    "tags": []
   },
   "source": [
    "Lets process our text!"
   ]
  },
  {
   "cell_type": "markdown",
   "id": "5ff7ff36",
   "metadata": {
    "papermill": {
     "duration": 0.02601,
     "end_time": "2022-01-14T18:44:39.004453",
     "exception": false,
     "start_time": "2022-01-14T18:44:38.978443",
     "status": "completed"
    },
    "tags": []
   },
   "source": [
    "# 2. Text Preprocessing"
   ]
  },
  {
   "cell_type": "code",
   "execution_count": 12,
   "id": "a022c01c",
   "metadata": {
    "execution": {
     "iopub.execute_input": "2022-01-14T18:44:39.061762Z",
     "iopub.status.busy": "2022-01-14T18:44:39.061283Z",
     "iopub.status.idle": "2022-01-14T18:44:39.214705Z",
     "shell.execute_reply": "2022-01-14T18:44:39.214226Z",
     "shell.execute_reply.started": "2022-01-14T18:38:30.115824Z"
    },
    "papermill": {
     "duration": 0.184034,
     "end_time": "2022-01-14T18:44:39.214807",
     "exception": false,
     "start_time": "2022-01-14T18:44:39.030773",
     "status": "completed"
    },
    "tags": []
   },
   "outputs": [
    {
     "name": "stdout",
     "output_type": "stream",
     "text": [
      "[nltk_data] Downloading package stopwords to /usr/share/nltk_data...\n",
      "[nltk_data]   Package stopwords is already up-to-date!\n"
     ]
    }
   ],
   "source": [
    "nlp.download(\"stopwords\") \n",
    "lemma=nlp.WordNetLemmatizer()"
   ]
  },
  {
   "cell_type": "code",
   "execution_count": 13,
   "id": "789397ac",
   "metadata": {
    "execution": {
     "iopub.execute_input": "2022-01-14T18:44:39.272788Z",
     "iopub.status.busy": "2022-01-14T18:44:39.272320Z",
     "iopub.status.idle": "2022-01-14T18:44:39.275437Z",
     "shell.execute_reply": "2022-01-14T18:44:39.275037Z",
     "shell.execute_reply.started": "2022-01-14T18:38:30.219034Z"
    },
    "papermill": {
     "duration": 0.034895,
     "end_time": "2022-01-14T18:44:39.275539",
     "exception": false,
     "start_time": "2022-01-14T18:44:39.240644",
     "status": "completed"
    },
    "tags": []
   },
   "outputs": [],
   "source": [
    " def text_process(data):\n",
    "    text_list=[]\n",
    "    for text in data.text:\n",
    "        text=re.sub(\"[^a-zA-Z]\",\" \",text) # extracting unnecesary characters\n",
    "        text=text.lower() #makes characters lowercase\n",
    "        text=nlp.word_tokenize(text) # splits all the words\n",
    "        text=[word for word in text if not word in set(stopwords.words(\"english\"))] # extract stopwords\n",
    "        text=[lemma.lemmatize(word) for word in text] # Lemmatisation\n",
    "        text=\" \".join(text) \n",
    "        text_list.append(text)\n",
    "        \n",
    "    return text_list"
   ]
  },
  {
   "cell_type": "markdown",
   "id": "19b079d3",
   "metadata": {
    "papermill": {
     "duration": 0.025528,
     "end_time": "2022-01-14T18:44:39.327048",
     "exception": false,
     "start_time": "2022-01-14T18:44:39.301520",
     "status": "completed"
    },
    "tags": []
   },
   "source": [
    "**You will see me take sample sizes for my datasets - this is because my computer is not powerful enough to do this for the full datasets**"
   ]
  },
  {
   "cell_type": "code",
   "execution_count": 14,
   "id": "1e9005af",
   "metadata": {
    "execution": {
     "iopub.execute_input": "2022-01-14T18:44:39.381416Z",
     "iopub.status.busy": "2022-01-14T18:44:39.380883Z",
     "iopub.status.idle": "2022-01-14T18:45:31.630632Z",
     "shell.execute_reply": "2022-01-14T18:45:31.630081Z",
     "shell.execute_reply.started": "2022-01-14T18:38:30.230087Z"
    },
    "papermill": {
     "duration": 52.278011,
     "end_time": "2022-01-14T18:45:31.630747",
     "exception": false,
     "start_time": "2022-01-14T18:44:39.352736",
     "status": "completed"
    },
    "tags": []
   },
   "outputs": [],
   "source": [
    "fake_sample = fake.sample(n=1000) #10,000\n",
    "fake_text = text_process(fake_sample)"
   ]
  },
  {
   "cell_type": "code",
   "execution_count": 15,
   "id": "d848a624",
   "metadata": {
    "execution": {
     "iopub.execute_input": "2022-01-14T18:45:31.741908Z",
     "iopub.status.busy": "2022-01-14T18:45:31.708582Z",
     "iopub.status.idle": "2022-01-14T18:45:31.894293Z",
     "shell.execute_reply": "2022-01-14T18:45:31.893845Z",
     "shell.execute_reply.started": "2022-01-14T18:39:41.322408Z"
    },
    "papermill": {
     "duration": 0.236453,
     "end_time": "2022-01-14T18:45:31.894403",
     "exception": false,
     "start_time": "2022-01-14T18:45:31.657950",
     "status": "completed"
    },
    "tags": []
   },
   "outputs": [
    {
     "name": "stdout",
     "output_type": "stream",
     "text": [
      "[(('donald', 'trump'), 543), (('featured', 'image'), 316), (('white', 'house'), 269), (('united', 'state'), 269), (('hillary', 'clinton'), 255), (('image', 'via'), 244), (('twitter', 'com'), 215), (('pic', 'twitter'), 206), (('new', 'york'), 189), (('president', 'trump'), 184)]\n"
     ]
    }
   ],
   "source": [
    "text_all = ''\n",
    "for text in fake_text:    \n",
    "    text_all = text_all + \" \" + text\n",
    "\n",
    "    \n",
    "bigrm = list(nltk.bigrams(text_all.split()))\n",
    "BigramFreq = collections.Counter(bigrm)\n",
    "BigramFreq = BigramFreq.most_common(10)\n",
    "print(BigramFreq)"
   ]
  },
  {
   "cell_type": "code",
   "execution_count": 16,
   "id": "f48e8bdd",
   "metadata": {
    "execution": {
     "iopub.execute_input": "2022-01-14T18:45:31.952685Z",
     "iopub.status.busy": "2022-01-14T18:45:31.948839Z",
     "iopub.status.idle": "2022-01-14T18:45:32.155543Z",
     "shell.execute_reply": "2022-01-14T18:45:32.154998Z",
     "shell.execute_reply.started": "2022-01-14T18:39:41.846326Z"
    },
    "papermill": {
     "duration": 0.235134,
     "end_time": "2022-01-14T18:45:32.155665",
     "exception": false,
     "start_time": "2022-01-14T18:45:31.920531",
     "status": "completed"
    },
    "tags": []
   },
   "outputs": [
    {
     "data": {
      "text/plain": [
       "<AxesSubplot:>"
      ]
     },
     "execution_count": 16,
     "metadata": {},
     "output_type": "execute_result"
    },
    {
     "data": {
      "image/png": "[encoded data removed]",
      "text/plain": [
       "<Figure size 720x720 with 1 Axes>"
      ]
     },
     "metadata": {
      "needs_background": "light"
     },
     "output_type": "display_data"
    }
   ],
   "source": [
    "bigrams = [x[0] for x in BigramFreq]\n",
    "count = [x[1] for x in BigramFreq]\n",
    "\n",
    "for i in range(len(bigrams)):\n",
    "    bigrams[i] = bigrams[i][0] + \" \" + bigrams[i][1]\n",
    "\n",
    "    \n",
    "f, ax = plt.subplots(figsize=(10,10))\n",
    "plt.xticks(rotation=45)\n",
    "sns.barplot(x=bigrams,y=count)"
   ]
  },
  {
   "cell_type": "markdown",
   "id": "2ab70cf4",
   "metadata": {
    "papermill": {
     "duration": 0.027866,
     "end_time": "2022-01-14T18:45:32.211520",
     "exception": false,
     "start_time": "2022-01-14T18:45:32.183654",
     "status": "completed"
    },
    "tags": []
   },
   "source": [
    "Now lets do this for the real articles"
   ]
  },
  {
   "cell_type": "code",
   "execution_count": 17,
   "id": "ca89e66b",
   "metadata": {
    "execution": {
     "iopub.execute_input": "2022-01-14T18:45:32.270526Z",
     "iopub.status.busy": "2022-01-14T18:45:32.269562Z",
     "iopub.status.idle": "2022-01-14T18:46:19.872275Z",
     "shell.execute_reply": "2022-01-14T18:46:19.871712Z",
     "shell.execute_reply.started": "2022-01-14T18:39:42.159372Z"
    },
    "papermill": {
     "duration": 47.632858,
     "end_time": "2022-01-14T18:46:19.872427",
     "exception": false,
     "start_time": "2022-01-14T18:45:32.239569",
     "status": "completed"
    },
    "tags": []
   },
   "outputs": [],
   "source": [
    "real_sample = real.sample(n=1000) #10,000\n",
    "real_text = text_process(real_sample)"
   ]
  },
  {
   "cell_type": "code",
   "execution_count": 18,
   "id": "c1058ec8",
   "metadata": {
    "execution": {
     "iopub.execute_input": "2022-01-14T18:46:19.983944Z",
     "iopub.status.busy": "2022-01-14T18:46:19.973637Z",
     "iopub.status.idle": "2022-01-14T18:46:20.166646Z",
     "shell.execute_reply": "2022-01-14T18:46:20.167029Z",
     "shell.execute_reply.started": "2022-01-14T18:40:43.829564Z"
    },
    "papermill": {
     "duration": 0.253444,
     "end_time": "2022-01-14T18:46:20.167197",
     "exception": false,
     "start_time": "2022-01-14T18:46:19.913753",
     "status": "completed"
    },
    "tags": []
   },
   "outputs": [
    {
     "name": "stdout",
     "output_type": "stream",
     "text": [
      "[(('united', 'state'), 638), (('donald', 'trump'), 498), (('white', 'house'), 370), (('north', 'korea'), 331), (('washington', 'reuters'), 316), (('president', 'donald'), 281), (('new', 'york'), 241), (('prime', 'minister'), 207), (('said', 'statement'), 200), (('u', 'president'), 179)]\n"
     ]
    }
   ],
   "source": [
    "text_all_2 = ''\n",
    "for text in real_text:    \n",
    "    text_all_2 = text_all_2 + \" \" + text\n",
    "\n",
    "    \n",
    "bigrm2 = list(nltk.bigrams(text_all_2.split()))\n",
    "BigramFreq2 = collections.Counter(bigrm2)\n",
    "BigramFreq2 = BigramFreq2.most_common(10)\n",
    "print(BigramFreq2)"
   ]
  },
  {
   "cell_type": "code",
   "execution_count": 19,
   "id": "92707368",
   "metadata": {
    "execution": {
     "iopub.execute_input": "2022-01-14T18:46:20.227285Z",
     "iopub.status.busy": "2022-01-14T18:46:20.226567Z",
     "iopub.status.idle": "2022-01-14T18:46:20.444250Z",
     "shell.execute_reply": "2022-01-14T18:46:20.443763Z",
     "shell.execute_reply.started": "2022-01-14T18:40:44.324535Z"
    },
    "papermill": {
     "duration": 0.248571,
     "end_time": "2022-01-14T18:46:20.444363",
     "exception": false,
     "start_time": "2022-01-14T18:46:20.195792",
     "status": "completed"
    },
    "tags": []
   },
   "outputs": [
    {
     "data": {
      "text/plain": [
       "<AxesSubplot:>"
      ]
     },
     "execution_count": 19,
     "metadata": {},
     "output_type": "execute_result"
    },
    {
     "data": {
      "image/png": "[encoded data removed]",
      "text/plain": [
       "<Figure size 720x720 with 1 Axes>"
      ]
     },
     "metadata": {
      "needs_background": "light"
     },
     "output_type": "display_data"
    }
   ],
   "source": [
    "bigrams2 = [x[0] for x in BigramFreq2]\n",
    "count2 = [x[1] for x in BigramFreq2]\n",
    "\n",
    "for i in range(len(bigrams2)):\n",
    "    bigrams2[i] = bigrams2[i][0] + \" \" + bigrams2[i][1]\n",
    "\n",
    "    \n",
    "f, ax = plt.subplots(figsize=(10,10))\n",
    "plt.xticks(rotation=45)\n",
    "sns.barplot(x=bigrams2,y=count2)"
   ]
  },
  {
   "cell_type": "markdown",
   "id": "4d58e6c6",
   "metadata": {
    "papermill": {
     "duration": 0.043241,
     "end_time": "2022-01-14T18:46:20.516727",
     "exception": false,
     "start_time": "2022-01-14T18:46:20.473486",
     "status": "completed"
    },
    "tags": []
   },
   "source": [
    "# 3. Modelling"
   ]
  },
  {
   "cell_type": "markdown",
   "id": "7239bd41",
   "metadata": {
    "papermill": {
     "duration": 0.043149,
     "end_time": "2022-01-14T18:46:20.603724",
     "exception": false,
     "start_time": "2022-01-14T18:46:20.560575",
     "status": "completed"
    },
    "tags": []
   },
   "source": [
    "**I am going to be using a multinomial naive bayes classifier. You could do this with a Gaussian naive bayes classifier as well - however multinomial is better for classifying between two distinct classes - in our case this is Real and Fake news.**"
   ]
  },
  {
   "cell_type": "code",
   "execution_count": 20,
   "id": "cc97be97",
   "metadata": {
    "execution": {
     "iopub.execute_input": "2022-01-14T18:46:20.703089Z",
     "iopub.status.busy": "2022-01-14T18:46:20.702412Z",
     "iopub.status.idle": "2022-01-14T18:47:09.696730Z",
     "shell.execute_reply": "2022-01-14T18:47:09.696004Z",
     "shell.execute_reply.started": "2022-01-14T18:40:44.667922Z"
    },
    "papermill": {
     "duration": 49.049056,
     "end_time": "2022-01-14T18:47:09.696843",
     "exception": false,
     "start_time": "2022-01-14T18:46:20.647787",
     "status": "completed"
    },
    "tags": []
   },
   "outputs": [],
   "source": [
    "all_data_sample = all_data.sample(n=1000) #10,000\n",
    "all_data_processed = text_process(all_data_sample)"
   ]
  },
  {
   "cell_type": "code",
   "execution_count": 21,
   "id": "b17c281a",
   "metadata": {
    "execution": {
     "iopub.execute_input": "2022-01-14T18:47:09.778858Z",
     "iopub.status.busy": "2022-01-14T18:47:09.757503Z",
     "iopub.status.idle": "2022-01-14T18:47:09.961038Z",
     "shell.execute_reply": "2022-01-14T18:47:09.960622Z",
     "shell.execute_reply.started": "2022-01-14T18:41:48.302000Z"
    },
    "papermill": {
     "duration": 0.234883,
     "end_time": "2022-01-14T18:47:09.961159",
     "exception": false,
     "start_time": "2022-01-14T18:47:09.726276",
     "status": "completed"
    },
    "tags": []
   },
   "outputs": [],
   "source": [
    "max_features=1000\n",
    "count_vectorizer=CountVectorizer(max_features=max_features,stop_words=\"english\")\n",
    "sparce_matrix=count_vectorizer.fit_transform(all_data_processed).toarray()"
   ]
  },
  {
   "cell_type": "code",
   "execution_count": 22,
   "id": "428608e3",
   "metadata": {
    "execution": {
     "iopub.execute_input": "2022-01-14T18:47:10.025763Z",
     "iopub.status.busy": "2022-01-14T18:47:10.025081Z",
     "iopub.status.idle": "2022-01-14T18:47:10.028417Z",
     "shell.execute_reply": "2022-01-14T18:47:10.027628Z",
     "shell.execute_reply.started": "2022-01-14T18:41:48.689858Z"
    },
    "papermill": {
     "duration": 0.037545,
     "end_time": "2022-01-14T18:47:10.028530",
     "exception": false,
     "start_time": "2022-01-14T18:47:09.990985",
     "status": "completed"
    },
    "tags": []
   },
   "outputs": [
    {
     "name": "stdout",
     "output_type": "stream",
     "text": [
      "[[0 0 0 ... 0 0 0]\n",
      " [0 0 0 ... 0 0 0]\n",
      " [0 1 0 ... 0 0 0]\n",
      " ...\n",
      " [0 0 0 ... 0 0 0]\n",
      " [0 0 0 ... 0 0 0]\n",
      " [0 0 1 ... 0 0 0]]\n"
     ]
    }
   ],
   "source": [
    "print(sparce_matrix)"
   ]
  },
  {
   "cell_type": "code",
   "execution_count": 23,
   "id": "901543ab",
   "metadata": {
    "execution": {
     "iopub.execute_input": "2022-01-14T18:47:10.092927Z",
     "iopub.status.busy": "2022-01-14T18:47:10.092432Z",
     "iopub.status.idle": "2022-01-14T18:47:10.093822Z",
     "shell.execute_reply": "2022-01-14T18:47:10.094358Z",
     "shell.execute_reply.started": "2022-01-14T18:41:48.700348Z"
    },
    "papermill": {
     "duration": 0.036394,
     "end_time": "2022-01-14T18:47:10.094495",
     "exception": false,
     "start_time": "2022-01-14T18:47:10.058101",
     "status": "completed"
    },
    "tags": []
   },
   "outputs": [],
   "source": [
    "y=all_data_sample.iloc[: , -1]\n",
    "x=sparce_matrix"
   ]
  },
  {
   "cell_type": "code",
   "execution_count": 24,
   "id": "ab15a00b",
   "metadata": {
    "execution": {
     "iopub.execute_input": "2022-01-14T18:47:10.154947Z",
     "iopub.status.busy": "2022-01-14T18:47:10.154505Z",
     "iopub.status.idle": "2022-01-14T18:47:10.161069Z",
     "shell.execute_reply": "2022-01-14T18:47:10.160678Z",
     "shell.execute_reply.started": "2022-01-14T18:41:48.722248Z"
    },
    "papermill": {
     "duration": 0.037801,
     "end_time": "2022-01-14T18:47:10.161176",
     "exception": false,
     "start_time": "2022-01-14T18:47:10.123375",
     "status": "completed"
    },
    "tags": []
   },
   "outputs": [
    {
     "name": "stdout",
     "output_type": "stream",
     "text": [
      "14009    1\n",
      "23223    1\n",
      "3967     0\n",
      "9359     0\n",
      "22631    1\n",
      "        ..\n",
      "10188    0\n",
      "10721    1\n",
      "20669    0\n",
      "12347    1\n",
      "19053    1\n",
      "Name: class, Length: 1000, dtype: int64\n"
     ]
    }
   ],
   "source": [
    "print(y)"
   ]
  },
  {
   "cell_type": "code",
   "execution_count": 25,
   "id": "bbed37c3",
   "metadata": {
    "execution": {
     "iopub.execute_input": "2022-01-14T18:47:10.221999Z",
     "iopub.status.busy": "2022-01-14T18:47:10.221547Z",
     "iopub.status.idle": "2022-01-14T18:47:10.229309Z",
     "shell.execute_reply": "2022-01-14T18:47:10.229729Z",
     "shell.execute_reply.started": "2022-01-14T18:41:48.746676Z"
    },
    "papermill": {
     "duration": 0.039537,
     "end_time": "2022-01-14T18:47:10.229874",
     "exception": false,
     "start_time": "2022-01-14T18:47:10.190337",
     "status": "completed"
    },
    "tags": []
   },
   "outputs": [],
   "source": [
    "x_train,x_test,y_train,y_test=train_test_split(x,y,test_size=0.1,random_state=5)"
   ]
  },
  {
   "cell_type": "code",
   "execution_count": 26,
   "id": "4d542688",
   "metadata": {
    "execution": {
     "iopub.execute_input": "2022-01-14T18:47:10.292548Z",
     "iopub.status.busy": "2022-01-14T18:47:10.292006Z",
     "iopub.status.idle": "2022-01-14T18:47:10.301427Z",
     "shell.execute_reply": "2022-01-14T18:47:10.301831Z",
     "shell.execute_reply.started": "2022-01-14T18:41:48.802491Z"
    },
    "papermill": {
     "duration": 0.042713,
     "end_time": "2022-01-14T18:47:10.301984",
     "exception": false,
     "start_time": "2022-01-14T18:47:10.259271",
     "status": "completed"
    },
    "tags": []
   },
   "outputs": [],
   "source": [
    "nb=MultinomialNB()\n",
    "nb.fit(x_train,y_train)\n",
    "y_pred= nb.predict(x_test)"
   ]
  },
  {
   "cell_type": "code",
   "execution_count": 27,
   "id": "09a55de3",
   "metadata": {
    "execution": {
     "iopub.execute_input": "2022-01-14T18:47:10.364905Z",
     "iopub.status.busy": "2022-01-14T18:47:10.364361Z",
     "iopub.status.idle": "2022-01-14T18:47:10.368136Z",
     "shell.execute_reply": "2022-01-14T18:47:10.368576Z",
     "shell.execute_reply.started": "2022-01-14T18:41:48.831562Z"
    },
    "papermill": {
     "duration": 0.037104,
     "end_time": "2022-01-14T18:47:10.368718",
     "exception": false,
     "start_time": "2022-01-14T18:47:10.331614",
     "status": "completed"
    },
    "tags": []
   },
   "outputs": [],
   "source": [
    "y_test = y_test.to_numpy()"
   ]
  },
  {
   "cell_type": "code",
   "execution_count": 28,
   "id": "981e5d69",
   "metadata": {
    "execution": {
     "iopub.execute_input": "2022-01-14T18:47:10.432118Z",
     "iopub.status.busy": "2022-01-14T18:47:10.431629Z",
     "iopub.status.idle": "2022-01-14T18:47:10.436220Z",
     "shell.execute_reply": "2022-01-14T18:47:10.435761Z",
     "shell.execute_reply.started": "2022-01-14T18:41:48.841393Z"
    },
    "papermill": {
     "duration": 0.03733,
     "end_time": "2022-01-14T18:47:10.436323",
     "exception": false,
     "start_time": "2022-01-14T18:47:10.398993",
     "status": "completed"
    },
    "tags": []
   },
   "outputs": [
    {
     "name": "stdout",
     "output_type": "stream",
     "text": [
      "<class 'numpy.ndarray'>\n",
      "<class 'numpy.ndarray'>\n"
     ]
    }
   ],
   "source": [
    "print(type(y_test))\n",
    "print(type(y_pred))"
   ]
  },
  {
   "cell_type": "code",
   "execution_count": 29,
   "id": "11693b2c",
   "metadata": {
    "execution": {
     "iopub.execute_input": "2022-01-14T18:47:10.501786Z",
     "iopub.status.busy": "2022-01-14T18:47:10.501257Z",
     "iopub.status.idle": "2022-01-14T18:47:10.505134Z",
     "shell.execute_reply": "2022-01-14T18:47:10.503774Z",
     "shell.execute_reply.started": "2022-01-14T18:41:48.863709Z"
    },
    "papermill": {
     "duration": 0.038587,
     "end_time": "2022-01-14T18:47:10.505296",
     "exception": false,
     "start_time": "2022-01-14T18:47:10.466709",
     "status": "completed"
    },
    "tags": []
   },
   "outputs": [
    {
     "name": "stdout",
     "output_type": "stream",
     "text": [
      "[0 0 1 0 0 1 1 0 0 0 0 0 1 1 0 0 0 1 1 1 0 0 0 0 0 1 0 0 1 1 0 0 1 0 0 1 0\n",
      " 1 1 1 0 1 1 1 0 0 1 1 0 1 1 1 1 0 0 0 1 1 1 1 1 1 0 0 0 0 1 0 1 0 1 0 1 0\n",
      " 0 0 1 1 1 0 1 0 0 1 1 1 1 1 0 0 1 1 0 0 0 1 0 1 1 1]\n",
      "[0 0 1 0 0 1 1 0 0 0 0 0 1 1 0 0 0 1 1 1 0 0 0 0 0 1 0 0 1 0 0 0 1 1 0 1 0\n",
      " 1 1 1 0 1 1 1 0 0 0 1 0 1 1 1 1 0 1 0 1 1 1 1 1 1 0 0 0 0 0 0 1 0 1 0 1 0\n",
      " 0 0 1 1 1 0 1 0 1 1 1 1 1 1 0 0 1 1 0 0 0 1 1 1 1 1]\n"
     ]
    }
   ],
   "source": [
    "print(y_test)\n",
    "print(y_pred)"
   ]
  },
  {
   "cell_type": "code",
   "execution_count": 30,
   "id": "1933ce52",
   "metadata": {
    "execution": {
     "iopub.execute_input": "2022-01-14T18:47:10.571016Z",
     "iopub.status.busy": "2022-01-14T18:47:10.570347Z",
     "iopub.status.idle": "2022-01-14T18:47:10.577148Z",
     "shell.execute_reply": "2022-01-14T18:47:10.577559Z",
     "shell.execute_reply.started": "2022-01-14T18:41:48.886000Z"
    },
    "papermill": {
     "duration": 0.040271,
     "end_time": "2022-01-14T18:47:10.577706",
     "exception": false,
     "start_time": "2022-01-14T18:47:10.537435",
     "status": "completed"
    },
    "tags": []
   },
   "outputs": [
    {
     "name": "stdout",
     "output_type": "stream",
     "text": [
      "Accuracy: 93.0\n"
     ]
    }
   ],
   "source": [
    "count = 0\n",
    "for i in range(len(y_pred)):\n",
    "    if y_test[i] == y_pred[i]:\n",
    "        count+=1\n",
    "    \n",
    "print(\"Accuracy: \" + str((count/len(y_pred))* 100))"
   ]
  },
  {
   "cell_type": "markdown",
   "id": "8e49811c",
   "metadata": {
    "papermill": {
     "duration": 0.032202,
     "end_time": "2022-01-14T18:47:10.641596",
     "exception": false,
     "start_time": "2022-01-14T18:47:10.609394",
     "status": "completed"
    },
    "tags": []
   },
   "source": [
    "**Accuracy is 94% for Multinomial Bayes - this accuracy could be increased if we choose a larger sample size.**"
   ]
  }
 ],
 "metadata": {
  "kernelspec": {
   "display_name": "Python 3",
   "language": "python",
   "name": "python3"
  },
  "language_info": {
   "codemirror_mode": {
    "name": "ipython",
    "version": 3
   },
   "file_extension": ".py",
   "mimetype": "text/x-python",
   "name": "python",
   "nbconvert_exporter": "python",
   "pygments_lexer": "ipython3",
   "version": "3.7.12"
  },
  "papermill": {
   "default_parameters": {},
   "duration": 166.596468,
   "end_time": "2022-01-14T18:47:11.684243",
   "environment_variables": {},
   "exception": null,
   "input_path": "__notebook__.ipynb",
   "output_path": "__notebook__.ipynb",
   "parameters": {},
   "start_time": "2022-01-14T18:44:25.087775",
   "version": "2.3.3"
  }
 },
 "nbformat": 4,
 "nbformat_minor": 5
}
